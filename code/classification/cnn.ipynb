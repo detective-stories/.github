{
 "cells": [
  {
   "cell_type": "code",
   "execution_count": 1,
   "metadata": {
    "ExecuteTime": {
     "end_time": "2023-11-19T23:30:10.838578800Z",
     "start_time": "2023-11-19T23:30:10.141774700Z"
    }
   },
   "outputs": [],
   "source": [
    "import numpy as np\n",
    "import pandas as pd"
   ]
  },
  {
   "cell_type": "code",
   "execution_count": 2,
   "metadata": {
    "ExecuteTime": {
     "end_time": "2023-11-19T23:30:38.755194300Z",
     "start_time": "2023-11-19T23:30:10.826905Z"
    }
   },
   "outputs": [
    {
     "name": "stderr",
     "output_type": "stream",
     "text": [
      "C:\\Users\\akovr\\AppData\\Local\\Temp\\ipykernel_27756\\1121787947.py:1: DtypeWarning: Columns (16) have mixed types. Specify dtype option on import or set low_memory=False.\n",
      "  df = pd.read_csv('complaints.csv')\n"
     ]
    }
   ],
   "source": [
    "df = pd.read_csv('complaints.csv')"
   ]
  },
  {
   "cell_type": "code",
   "execution_count": 3,
   "metadata": {
    "ExecuteTime": {
     "end_time": "2023-11-19T23:30:38.789232500Z",
     "start_time": "2023-11-19T23:30:38.759204Z"
    }
   },
   "outputs": [
    {
     "data": {
      "text/plain": "                                                                              0  \\\nDate received                                                        2023-11-18   \nProduct                       Credit reporting or other personal consumer re...   \nSub-product                                                    Credit reporting   \nIssue                                      Incorrect information on your report   \nSub-issue                                              Account status incorrect   \nConsumer complaint narrative                                                NaN   \nCompany public response                                                     NaN   \nCompany                                                           EQUIFAX, INC.   \nState                                                                        MI   \nZIP code                                                                  49037   \nTags                                                                        NaN   \nConsumer consent provided?                                                  NaN   \nSubmitted via                                                               Web   \nDate sent to company                                                 2023-11-18   \nCompany response to consumer                                        In progress   \nTimely response?                                                            Yes   \nConsumer disputed?                                                          NaN   \nComplaint ID                                                            7865587   \n\n                                                                              1  \nDate received                                                        2023-11-18  \nProduct                       Credit reporting or other personal consumer re...  \nSub-product                                                    Credit reporting  \nIssue                                      Incorrect information on your report  \nSub-issue                                   Information belongs to someone else  \nConsumer complaint narrative                                                NaN  \nCompany public response                                                     NaN  \nCompany                                                           EQUIFAX, INC.  \nState                                                                        GA  \nZIP code                                                                  30052  \nTags                                                                        NaN  \nConsumer consent provided?                                                  NaN  \nSubmitted via                                                               Web  \nDate sent to company                                                 2023-11-18  \nCompany response to consumer                                        In progress  \nTimely response?                                                            Yes  \nConsumer disputed?                                                          NaN  \nComplaint ID                                                            7865602  ",
      "text/html": "<div>\n<style scoped>\n    .dataframe tbody tr th:only-of-type {\n        vertical-align: middle;\n    }\n\n    .dataframe tbody tr th {\n        vertical-align: top;\n    }\n\n    .dataframe thead th {\n        text-align: right;\n    }\n</style>\n<table border=\"1\" class=\"dataframe\">\n  <thead>\n    <tr style=\"text-align: right;\">\n      <th></th>\n      <th>0</th>\n      <th>1</th>\n    </tr>\n  </thead>\n  <tbody>\n    <tr>\n      <th>Date received</th>\n      <td>2023-11-18</td>\n      <td>2023-11-18</td>\n    </tr>\n    <tr>\n      <th>Product</th>\n      <td>Credit reporting or other personal consumer re...</td>\n      <td>Credit reporting or other personal consumer re...</td>\n    </tr>\n    <tr>\n      <th>Sub-product</th>\n      <td>Credit reporting</td>\n      <td>Credit reporting</td>\n    </tr>\n    <tr>\n      <th>Issue</th>\n      <td>Incorrect information on your report</td>\n      <td>Incorrect information on your report</td>\n    </tr>\n    <tr>\n      <th>Sub-issue</th>\n      <td>Account status incorrect</td>\n      <td>Information belongs to someone else</td>\n    </tr>\n    <tr>\n      <th>Consumer complaint narrative</th>\n      <td>NaN</td>\n      <td>NaN</td>\n    </tr>\n    <tr>\n      <th>Company public response</th>\n      <td>NaN</td>\n      <td>NaN</td>\n    </tr>\n    <tr>\n      <th>Company</th>\n      <td>EQUIFAX, INC.</td>\n      <td>EQUIFAX, INC.</td>\n    </tr>\n    <tr>\n      <th>State</th>\n      <td>MI</td>\n      <td>GA</td>\n    </tr>\n    <tr>\n      <th>ZIP code</th>\n      <td>49037</td>\n      <td>30052</td>\n    </tr>\n    <tr>\n      <th>Tags</th>\n      <td>NaN</td>\n      <td>NaN</td>\n    </tr>\n    <tr>\n      <th>Consumer consent provided?</th>\n      <td>NaN</td>\n      <td>NaN</td>\n    </tr>\n    <tr>\n      <th>Submitted via</th>\n      <td>Web</td>\n      <td>Web</td>\n    </tr>\n    <tr>\n      <th>Date sent to company</th>\n      <td>2023-11-18</td>\n      <td>2023-11-18</td>\n    </tr>\n    <tr>\n      <th>Company response to consumer</th>\n      <td>In progress</td>\n      <td>In progress</td>\n    </tr>\n    <tr>\n      <th>Timely response?</th>\n      <td>Yes</td>\n      <td>Yes</td>\n    </tr>\n    <tr>\n      <th>Consumer disputed?</th>\n      <td>NaN</td>\n      <td>NaN</td>\n    </tr>\n    <tr>\n      <th>Complaint ID</th>\n      <td>7865587</td>\n      <td>7865602</td>\n    </tr>\n  </tbody>\n</table>\n</div>"
     },
     "execution_count": 3,
     "metadata": {},
     "output_type": "execute_result"
    }
   ],
   "source": [
    "df.head(2).T"
   ]
  },
  {
   "cell_type": "code",
   "execution_count": 4,
   "metadata": {
    "ExecuteTime": {
     "end_time": "2023-11-19T23:30:39.305273800Z",
     "start_time": "2023-11-19T23:30:38.782226400Z"
    }
   },
   "outputs": [
    {
     "data": {
      "text/plain": "(4310354, 2)"
     },
     "execution_count": 4,
     "metadata": {},
     "output_type": "execute_result"
    }
   ],
   "source": [
    "# leave only Product and Consumer complaint narrative\n",
    "\n",
    "df = df[['Product', 'Consumer complaint narrative']]\n",
    "\n",
    "df.shape"
   ]
  },
  {
   "cell_type": "code",
   "execution_count": 5,
   "metadata": {
    "ExecuteTime": {
     "end_time": "2023-11-19T23:30:40.224938700Z",
     "start_time": "2023-11-19T23:30:39.297292Z"
    }
   },
   "outputs": [
    {
     "data": {
      "text/plain": "array([['Credit reporting or other personal consumer reports'],\n       ['Debt collection'],\n       ['Credit card'],\n       ['Checking or savings account'],\n       ['Payday loan, title loan, personal loan, or advance loan'],\n       ['Prepaid card'],\n       ['Student loan'],\n       ['Mortgage'],\n       ['Money transfer, virtual currency, or money service'],\n       ['Vehicle loan or lease'],\n       ['Debt or credit management'],\n       ['Credit reporting, credit repair services, or other personal consumer reports'],\n       ['Payday loan, title loan, or personal loan'],\n       ['Credit card or prepaid card'],\n       ['Credit reporting'],\n       ['Bank account or service'],\n       ['Consumer Loan'],\n       ['Payday loan'],\n       ['Other financial service'],\n       ['Money transfers'],\n       ['Virtual currency']], dtype=object)"
     },
     "execution_count": 5,
     "metadata": {},
     "output_type": "execute_result"
    }
   ],
   "source": [
    "pd.DataFrame(df.Product.unique()).values"
   ]
  },
  {
   "cell_type": "code",
   "execution_count": 6,
   "metadata": {
    "ExecuteTime": {
     "end_time": "2023-11-19T23:30:42.796134900Z",
     "start_time": "2023-11-19T23:30:40.200931100Z"
    }
   },
   "outputs": [],
   "source": [
    "df.replace({'Product':\n",
    "             {\n",
    "              'Credit reporting':'Credit reporting, credit repair services, or other personal consumer reports',\n",
    "              'Credit reporting, repair, or other':'Credit reporting, credit repair services, or other personal consumer reports',\n",
    "              'Credit reporting or other personal consumer reports':'Credit reporting, credit repair services, or other personal consumer reports',\n",
    "              'Credit card': 'Credit card or prepaid card',\n",
    "              'Prepaid card': 'Credit card or prepaid card',\n",
    "              'Payday loan': 'Payday loan, title loan, or personal loan',\n",
    "              'Payday loan, title loan, or personal loan':'Payday loan, title loan, personal loan, or advance loan',\n",
    "              'Money transfer': 'Money transfer, virtual currency, or money service',\n",
    "              'Virtual currency': 'Money transfer, virtual currency, or money service',\n",
    "              'Bank account or service':'Money transfer, virtual currency, or money service',\n",
    "              'Debt or credit management':'Credit reporting, credit repair services, or other personal consumer reports',\n",
    "              'Consumer Loan':'Credit reporting, credit repair services, or other personal consumer reports'}},\n",
    "            inplace= True)"
   ]
  },
  {
   "cell_type": "code",
   "execution_count": 7,
   "metadata": {
    "ExecuteTime": {
     "end_time": "2023-11-19T23:30:43.285190500Z",
     "start_time": "2023-11-19T23:30:42.798113600Z"
    }
   },
   "outputs": [
    {
     "data": {
      "text/plain": "Credit reporting, credit repair services, or other personal consumer reports    2582005\nDebt collection                                                                  516787\nMortgage                                                                         387297\nCredit card or prepaid card                                                      313407\nChecking or savings account                                                      189772\nMoney transfer, virtual currency, or money service                               147209\nStudent loan                                                                      80271\nVehicle loan or lease                                                             49515\nPayday loan, title loan, personal loan, or advance loan                           32138\nPayday loan, title loan, or personal loan                                          5541\nMoney transfers                                                                    5354\nOther financial service                                                            1058\nName: Product, dtype: int64"
     },
     "execution_count": 7,
     "metadata": {},
     "output_type": "execute_result"
    }
   ],
   "source": [
    "df.Product.value_counts()"
   ]
  },
  {
   "cell_type": "code",
   "execution_count": 8,
   "metadata": {
    "ExecuteTime": {
     "end_time": "2023-11-19T23:30:43.286188300Z",
     "start_time": "2023-11-19T23:30:43.250509200Z"
    }
   },
   "outputs": [
    {
     "data": {
      "text/plain": "                                             Product  \\\n0  Credit reporting, credit repair services, or o...   \n1  Credit reporting, credit repair services, or o...   \n2  Credit reporting, credit repair services, or o...   \n3  Credit reporting, credit repair services, or o...   \n4  Credit reporting, credit repair services, or o...   \n\n  Consumer complaint narrative  \n0                          NaN  \n1                          NaN  \n2                          NaN  \n3                          NaN  \n4                          NaN  ",
      "text/html": "<div>\n<style scoped>\n    .dataframe tbody tr th:only-of-type {\n        vertical-align: middle;\n    }\n\n    .dataframe tbody tr th {\n        vertical-align: top;\n    }\n\n    .dataframe thead th {\n        text-align: right;\n    }\n</style>\n<table border=\"1\" class=\"dataframe\">\n  <thead>\n    <tr style=\"text-align: right;\">\n      <th></th>\n      <th>Product</th>\n      <th>Consumer complaint narrative</th>\n    </tr>\n  </thead>\n  <tbody>\n    <tr>\n      <th>0</th>\n      <td>Credit reporting, credit repair services, or o...</td>\n      <td>NaN</td>\n    </tr>\n    <tr>\n      <th>1</th>\n      <td>Credit reporting, credit repair services, or o...</td>\n      <td>NaN</td>\n    </tr>\n    <tr>\n      <th>2</th>\n      <td>Credit reporting, credit repair services, or o...</td>\n      <td>NaN</td>\n    </tr>\n    <tr>\n      <th>3</th>\n      <td>Credit reporting, credit repair services, or o...</td>\n      <td>NaN</td>\n    </tr>\n    <tr>\n      <th>4</th>\n      <td>Credit reporting, credit repair services, or o...</td>\n      <td>NaN</td>\n    </tr>\n  </tbody>\n</table>\n</div>"
     },
     "execution_count": 8,
     "metadata": {},
     "output_type": "execute_result"
    }
   ],
   "source": [
    "df.head()"
   ]
  },
  {
   "cell_type": "code",
   "execution_count": 9,
   "metadata": {
    "ExecuteTime": {
     "end_time": "2023-11-19T23:30:45.327018Z",
     "start_time": "2023-11-19T23:30:43.278183100Z"
    }
   },
   "outputs": [
    {
     "data": {
      "text/plain": "(Product                               0\n Consumer complaint narrative    2743355\n dtype: int64,\n 4310354)"
     },
     "execution_count": 9,
     "metadata": {},
     "output_type": "execute_result"
    }
   ],
   "source": [
    "# number of nulls in each column\n",
    "\n",
    "df.isnull().sum(), len(df)"
   ]
  },
  {
   "cell_type": "code",
   "execution_count": 10,
   "metadata": {
    "ExecuteTime": {
     "end_time": "2023-11-19T23:30:46.355277700Z",
     "start_time": "2023-11-19T23:30:45.269030800Z"
    }
   },
   "outputs": [
    {
     "data": {
      "text/plain": "                                             Product  \\\n0  Credit reporting, credit repair services, or o...   \n1  Credit reporting, credit repair services, or o...   \n2  Credit reporting, credit repair services, or o...   \n3  Credit reporting, credit repair services, or o...   \n4  Credit reporting, credit repair services, or o...   \n\n  Consumer complaint narrative  category_id  \n0                          NaN            0  \n1                          NaN            0  \n2                          NaN            0  \n3                          NaN            0  \n4                          NaN            0  ",
      "text/html": "<div>\n<style scoped>\n    .dataframe tbody tr th:only-of-type {\n        vertical-align: middle;\n    }\n\n    .dataframe tbody tr th {\n        vertical-align: top;\n    }\n\n    .dataframe thead th {\n        text-align: right;\n    }\n</style>\n<table border=\"1\" class=\"dataframe\">\n  <thead>\n    <tr style=\"text-align: right;\">\n      <th></th>\n      <th>Product</th>\n      <th>Consumer complaint narrative</th>\n      <th>category_id</th>\n    </tr>\n  </thead>\n  <tbody>\n    <tr>\n      <th>0</th>\n      <td>Credit reporting, credit repair services, or o...</td>\n      <td>NaN</td>\n      <td>0</td>\n    </tr>\n    <tr>\n      <th>1</th>\n      <td>Credit reporting, credit repair services, or o...</td>\n      <td>NaN</td>\n      <td>0</td>\n    </tr>\n    <tr>\n      <th>2</th>\n      <td>Credit reporting, credit repair services, or o...</td>\n      <td>NaN</td>\n      <td>0</td>\n    </tr>\n    <tr>\n      <th>3</th>\n      <td>Credit reporting, credit repair services, or o...</td>\n      <td>NaN</td>\n      <td>0</td>\n    </tr>\n    <tr>\n      <th>4</th>\n      <td>Credit reporting, credit repair services, or o...</td>\n      <td>NaN</td>\n      <td>0</td>\n    </tr>\n  </tbody>\n</table>\n</div>"
     },
     "execution_count": 10,
     "metadata": {},
     "output_type": "execute_result"
    }
   ],
   "source": [
    "df['category_id'] = df['Product'].factorize()[0]\n",
    "\n",
    "df.head()"
   ]
  },
  {
   "cell_type": "code",
   "execution_count": 11,
   "metadata": {
    "ExecuteTime": {
     "end_time": "2023-11-19T23:30:46.396035200Z",
     "start_time": "2023-11-19T23:30:46.358918600Z"
    }
   },
   "outputs": [
    {
     "data": {
      "text/plain": "  Consumer complaint narrative  category_id\n0                          NaN            0\n1                          NaN            0\n2                          NaN            0\n3                          NaN            0\n4                          NaN            0",
      "text/html": "<div>\n<style scoped>\n    .dataframe tbody tr th:only-of-type {\n        vertical-align: middle;\n    }\n\n    .dataframe tbody tr th {\n        vertical-align: top;\n    }\n\n    .dataframe thead th {\n        text-align: right;\n    }\n</style>\n<table border=\"1\" class=\"dataframe\">\n  <thead>\n    <tr style=\"text-align: right;\">\n      <th></th>\n      <th>Consumer complaint narrative</th>\n      <th>category_id</th>\n    </tr>\n  </thead>\n  <tbody>\n    <tr>\n      <th>0</th>\n      <td>NaN</td>\n      <td>0</td>\n    </tr>\n    <tr>\n      <th>1</th>\n      <td>NaN</td>\n      <td>0</td>\n    </tr>\n    <tr>\n      <th>2</th>\n      <td>NaN</td>\n      <td>0</td>\n    </tr>\n    <tr>\n      <th>3</th>\n      <td>NaN</td>\n      <td>0</td>\n    </tr>\n    <tr>\n      <th>4</th>\n      <td>NaN</td>\n      <td>0</td>\n    </tr>\n  </tbody>\n</table>\n</div>"
     },
     "execution_count": 11,
     "metadata": {},
     "output_type": "execute_result"
    }
   ],
   "source": [
    "del df['Product']\n",
    "\n",
    "df.head()"
   ]
  },
  {
   "cell_type": "code",
   "execution_count": 12,
   "metadata": {
    "ExecuteTime": {
     "end_time": "2023-11-19T23:30:46.978259700Z",
     "start_time": "2023-11-19T23:30:46.375138600Z"
    }
   },
   "outputs": [
    {
     "data": {
      "text/plain": "                          Consumer complaint narrative  category_id\n11   I am XXXX  XXXXt that was XXXX  with the XXXX ...            1\n12   I request original copy of account from pro co...            0\n58   It has come to my attention. That my personal ...            0\n106  As of today XX/XX/XXXX, XXXX the current balan...            8\n108  XXXX, XXXX XXXX XXXX XXXX at XXXX XXXX XXXX XX...            0",
      "text/html": "<div>\n<style scoped>\n    .dataframe tbody tr th:only-of-type {\n        vertical-align: middle;\n    }\n\n    .dataframe tbody tr th {\n        vertical-align: top;\n    }\n\n    .dataframe thead th {\n        text-align: right;\n    }\n</style>\n<table border=\"1\" class=\"dataframe\">\n  <thead>\n    <tr style=\"text-align: right;\">\n      <th></th>\n      <th>Consumer complaint narrative</th>\n      <th>category_id</th>\n    </tr>\n  </thead>\n  <tbody>\n    <tr>\n      <th>11</th>\n      <td>I am XXXX  XXXXt that was XXXX  with the XXXX ...</td>\n      <td>1</td>\n    </tr>\n    <tr>\n      <th>12</th>\n      <td>I request original copy of account from pro co...</td>\n      <td>0</td>\n    </tr>\n    <tr>\n      <th>58</th>\n      <td>It has come to my attention. That my personal ...</td>\n      <td>0</td>\n    </tr>\n    <tr>\n      <th>106</th>\n      <td>As of today XX/XX/XXXX, XXXX the current balan...</td>\n      <td>8</td>\n    </tr>\n    <tr>\n      <th>108</th>\n      <td>XXXX, XXXX XXXX XXXX XXXX at XXXX XXXX XXXX XX...</td>\n      <td>0</td>\n    </tr>\n  </tbody>\n</table>\n</div>"
     },
     "execution_count": 12,
     "metadata": {},
     "output_type": "execute_result"
    }
   ],
   "source": [
    "# filter not null\n",
    "\n",
    "df2 = df[df['Consumer complaint narrative'].notnull()]\n",
    "\n",
    "df2.head()"
   ]
  },
  {
   "cell_type": "code",
   "execution_count": 13,
   "metadata": {
    "ExecuteTime": {
     "end_time": "2023-11-19T23:30:47.013544900Z",
     "start_time": "2023-11-19T23:30:46.978259700Z"
    }
   },
   "outputs": [],
   "source": [
    "X = df2['Consumer complaint narrative']\n",
    "y = df2['category_id']"
   ]
  },
  {
   "cell_type": "code",
   "execution_count": 14,
   "metadata": {
    "ExecuteTime": {
     "end_time": "2023-11-19T23:30:47.054778Z",
     "start_time": "2023-11-19T23:30:46.991217Z"
    }
   },
   "outputs": [
    {
     "data": {
      "text/plain": "1566999"
     },
     "execution_count": 14,
     "metadata": {},
     "output_type": "execute_result"
    }
   ],
   "source": [
    "len(X)"
   ]
  },
  {
   "cell_type": "code",
   "execution_count": 15,
   "metadata": {
    "ExecuteTime": {
     "end_time": "2023-11-19T23:30:49.581121500Z",
     "start_time": "2023-11-19T23:30:47.005541400Z"
    }
   },
   "outputs": [],
   "source": [
    "from sklearn.model_selection import train_test_split\n",
    "\n",
    "X, _, y, _ = train_test_split(X, y, train_size=10_0000)"
   ]
  },
  {
   "cell_type": "code",
   "execution_count": 16,
   "metadata": {
    "ExecuteTime": {
     "end_time": "2023-11-19T23:30:49.617790200Z",
     "start_time": "2023-11-19T23:30:49.587120700Z"
    }
   },
   "outputs": [],
   "source": [
    "X_train, X_test, y_train, y_test = train_test_split(X, y, test_size=0.2)"
   ]
  },
  {
   "cell_type": "code",
   "execution_count": 17,
   "metadata": {
    "ExecuteTime": {
     "end_time": "2023-11-19T23:30:55.614399500Z",
     "start_time": "2023-11-19T23:30:49.617790200Z"
    }
   },
   "outputs": [],
   "source": [
    "import re\n",
    "import torch\n",
    "import torch.nn as nn\n",
    "import torch.optim as optim\n",
    "from torch.utils.data import Dataset, DataLoader\n",
    "from sklearn.model_selection import train_test_split\n",
    "from collections import Counter\n",
    "from itertools import chain\n",
    "\n",
    "def clean_text(text):\n",
    "    return re.sub(r'[^a-zA-Z]', '', text)\n",
    "\n",
    "X_train_cleaned = [clean_text(text) for text in X_train]\n",
    "X_test_cleaned = [clean_text(text) for text in X_test]"
   ]
  },
  {
   "cell_type": "code",
   "execution_count": 18,
   "outputs": [],
   "source": [
    "all_text = ''.join(X_train_cleaned)\n",
    "vocab = sorted(set(all_text))\n",
    "char_to_int = {ch: i for i, ch in enumerate(vocab)}\n",
    "\n",
    "def text_to_int(text):\n",
    "    return [char_to_int[ch] for ch in text]\n",
    "\n",
    "X_train_encoded = [text_to_int(text) for text in X_train_cleaned]\n",
    "X_test_encoded = [text_to_int(text) for text in X_test_cleaned]\n",
    "\n",
    "max_len = 200\n",
    "\n",
    "X_train_encoded = [text[:max_len] for text in X_train_encoded]\n",
    "X_test_encoded = [text[:max_len] for text in X_test_encoded]"
   ],
   "metadata": {
    "collapsed": false,
    "ExecuteTime": {
     "end_time": "2023-11-19T23:31:00.986037800Z",
     "start_time": "2023-11-19T23:30:55.614399500Z"
    }
   }
  },
  {
   "cell_type": "code",
   "execution_count": 19,
   "outputs": [
    {
     "data": {
      "text/plain": "(200,\n torch.Size([80000, 200]),\n torch.Size([80000]),\n torch.Size([20000, 200]),\n torch.Size([20000]))"
     },
     "execution_count": 19,
     "metadata": {},
     "output_type": "execute_result"
    }
   ],
   "source": [
    "max_length = max(len(text) for text in X_train_encoded)\n",
    "X_train_padded = torch.tensor([i + [0]*(max_length-len(i)) for i in X_train_encoded])\n",
    "y_train = torch.tensor(y_train.to_numpy())\n",
    "\n",
    "X_test_padded = torch.tensor([i + [0]*(max_length-len(i)) for i in X_test_encoded])\n",
    "y_test = torch.tensor(y_test.to_numpy())\n",
    "\n",
    "max_length, X_train_padded.shape, y_train.shape, X_test_padded.shape, y_test.shape"
   ],
   "metadata": {
    "collapsed": false,
    "ExecuteTime": {
     "end_time": "2023-11-19T23:31:03.115605300Z",
     "start_time": "2023-11-19T23:31:00.987042100Z"
    }
   }
  },
  {
   "cell_type": "code",
   "execution_count": 20,
   "outputs": [],
   "source": [
    "from torch.utils.data import TensorDataset, DataLoader\n",
    "\n",
    "train_data = TensorDataset(X_train_padded, y_train)\n",
    "train_loader = DataLoader(train_data, batch_size=50, shuffle=True)\n",
    "\n",
    "test_data = TensorDataset(X_test_padded, y_test)\n",
    "test_loader = DataLoader(test_data, batch_size=50, shuffle=True)"
   ],
   "metadata": {
    "collapsed": false,
    "ExecuteTime": {
     "end_time": "2023-11-19T23:31:03.115605300Z",
     "start_time": "2023-11-19T23:31:03.110176100Z"
    }
   }
  },
  {
   "cell_type": "code",
   "execution_count": 21,
   "outputs": [],
   "source": [
    "class CNNModel(nn.Module):\n",
    "    def __init__(self, vocab_size, embedding_dim, hidden_dim, output_dim):\n",
    "        super(CNNModel, self).__init__()\n",
    "        self.embedding = nn.Embedding(vocab_size, embedding_dim)\n",
    "        self.conv1 = nn.Conv1d(embedding_dim, hidden_dim, kernel_size=5)\n",
    "        self.relu = nn.ReLU()\n",
    "        self.fc = nn.Linear(hidden_dim, output_dim)\n",
    "    \n",
    "    def forward(self, x):\n",
    "        x = self.embedding(x)\n",
    "        x = x.permute(0, 2, 1)\n",
    "        x = self.conv1(x)\n",
    "        x = self.relu(x)\n",
    "        x = torch.max(x, dim=2).values\n",
    "        x = self.fc(x)\n",
    "        return x\n"
   ],
   "metadata": {
    "collapsed": false,
    "ExecuteTime": {
     "end_time": "2023-11-19T23:31:03.123143400Z",
     "start_time": "2023-11-19T23:31:03.116606100Z"
    }
   }
  },
  {
   "cell_type": "code",
   "execution_count": 22,
   "outputs": [],
   "source": [
    "model = CNNModel(len(vocab), 50, 100, len(set(y))).to('cuda')"
   ],
   "metadata": {
    "collapsed": false,
    "ExecuteTime": {
     "end_time": "2023-11-19T23:31:04.776161300Z",
     "start_time": "2023-11-19T23:31:03.123143400Z"
    }
   }
  },
  {
   "cell_type": "code",
   "execution_count": 23,
   "outputs": [],
   "source": [
    "def one_epoch(model, criterion, optimizer, dl):\n",
    "    losses = []\n",
    "    accs = []\n",
    "\n",
    "    for x, y in dl:\n",
    "        x = x.to('cuda')\n",
    "        y = y.to('cuda')\n",
    "        \n",
    "        loss = criterion(model(x), y)\n",
    "\n",
    "        if optimizer:\n",
    "            optimizer.zero_grad()\n",
    "            loss.backward()\n",
    "            optimizer.step()\n",
    "\n",
    "        losses.append(loss.item())\n",
    "\n",
    "        acc = (model(x).argmax(1) == y).float().mean()\n",
    "\n",
    "        accs.append(acc.item())\n",
    "    \n",
    "    return np.mean(losses), np.mean(accs)"
   ],
   "metadata": {
    "collapsed": false,
    "ExecuteTime": {
     "end_time": "2023-11-19T23:31:04.785488800Z",
     "start_time": "2023-11-19T23:31:04.778161100Z"
    }
   }
  },
  {
   "cell_type": "code",
   "execution_count": 24,
   "outputs": [],
   "source": [
    "criterion = nn.CrossEntropyLoss()\n",
    "optimizer = optim.Adam(model.parameters(), lr=0.004)"
   ],
   "metadata": {
    "collapsed": false,
    "ExecuteTime": {
     "end_time": "2023-11-19T23:31:04.804302900Z",
     "start_time": "2023-11-19T23:31:04.781342200Z"
    }
   }
  },
  {
   "cell_type": "code",
   "execution_count": 25,
   "outputs": [
    {
     "data": {
      "text/plain": "  0%|          | 0/20 [00:00<?, ?it/s]",
      "application/vnd.jupyter.widget-view+json": {
       "version_major": 2,
       "version_minor": 0,
       "model_id": "3ad9cf2777ae4da1b6a2f730ad5b63d0"
      }
     },
     "metadata": {},
     "output_type": "display_data"
    },
    {
     "name": "stdout",
     "output_type": "stream",
     "text": [
      "Epoch 1 | Train loss: 0.804 | Test loss: 0.696 | Test acc: 0.774\n",
      "Epoch 2 | Train loss: 0.679 | Test loss: 0.654 | Test acc: 0.784\n",
      "Epoch 3 | Train loss: 0.661 | Test loss: 0.640 | Test acc: 0.788\n",
      "Epoch 4 | Train loss: 0.648 | Test loss: 0.650 | Test acc: 0.787\n",
      "Epoch 5 | Train loss: 0.641 | Test loss: 0.646 | Test acc: 0.788\n",
      "Epoch 6 | Train loss: 0.634 | Test loss: 0.638 | Test acc: 0.790\n",
      "Epoch 7 | Train loss: 0.627 | Test loss: 0.640 | Test acc: 0.792\n",
      "Epoch 8 | Train loss: 0.622 | Test loss: 0.644 | Test acc: 0.786\n",
      "Epoch 9 | Train loss: 0.614 | Test loss: 0.648 | Test acc: 0.792\n",
      "Epoch 10 | Train loss: 0.610 | Test loss: 0.645 | Test acc: 0.787\n",
      "Epoch 11 | Train loss: 0.603 | Test loss: 0.644 | Test acc: 0.791\n",
      "Epoch 12 | Train loss: 0.601 | Test loss: 0.638 | Test acc: 0.791\n",
      "Epoch 13 | Train loss: 0.597 | Test loss: 0.643 | Test acc: 0.790\n",
      "Epoch 14 | Train loss: 0.594 | Test loss: 0.641 | Test acc: 0.786\n",
      "Epoch 15 | Train loss: 0.590 | Test loss: 0.648 | Test acc: 0.790\n",
      "Epoch 16 | Train loss: 0.587 | Test loss: 0.644 | Test acc: 0.791\n",
      "Epoch 17 | Train loss: 0.585 | Test loss: 0.645 | Test acc: 0.793\n",
      "Epoch 18 | Train loss: 0.583 | Test loss: 0.644 | Test acc: 0.793\n",
      "Epoch 19 | Train loss: 0.578 | Test loss: 0.656 | Test acc: 0.791\n",
      "Epoch 20 | Train loss: 0.576 | Test loss: 0.657 | Test acc: 0.790\n"
     ]
    }
   ],
   "source": [
    "from tqdm.notebook import tqdm\n",
    "\n",
    "epochs = 20\n",
    "\n",
    "train_losses = []\n",
    "test_losses = []\n",
    "accs = []\n",
    "\n",
    "for epoch in tqdm(range(epochs)):\n",
    "    model.train()\n",
    "    train_loss, _ = one_epoch(model, criterion, optimizer, train_loader)\n",
    "\n",
    "    with torch.no_grad():\n",
    "        model.eval()\n",
    "        test_loss, acc = one_epoch(model, criterion, None, test_loader)\n",
    "\n",
    "    print(f'Epoch {epoch+1} | Train loss: {train_loss:.3f} | Test loss: {test_loss:.3f} | Test acc: {acc:.3f}')\n",
    "\n",
    "    train_losses.append(train_loss)\n",
    "    test_losses.append(test_loss)\n",
    "    accs.append(acc)"
   ],
   "metadata": {
    "collapsed": false,
    "ExecuteTime": {
     "end_time": "2023-11-19T23:32:56.698614800Z",
     "start_time": "2023-11-19T23:31:04.799304200Z"
    }
   }
  }
 ],
 "metadata": {
  "kernelspec": {
   "display_name": "Python 3",
   "language": "python",
   "name": "python3"
  },
  "language_info": {
   "codemirror_mode": {
    "name": "ipython",
    "version": 3
   },
   "file_extension": ".py",
   "mimetype": "text/x-python",
   "name": "python",
   "nbconvert_exporter": "python",
   "pygments_lexer": "ipython3",
   "version": "3.11.6"
  }
 },
 "nbformat": 4,
 "nbformat_minor": 2
}
